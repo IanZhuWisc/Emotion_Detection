{
 "cells": [
  {
   "cell_type": "code",
   "execution_count": 1,
   "id": "9ab8bd5d",
   "metadata": {},
   "outputs": [],
   "source": [
    "import os\n",
    "import cv2\n",
    "import numpy as np\n",
    "import torch\n",
    "from torch.utils.data import Dataset, DataLoader\n",
    "from torchvision import transforms\n",
    "import torchvision.transforms.functional as TF\n",
    "\n",
    "def extract_labels(labels):\n",
    "    # Map emotion labels to integers\n",
    "    label_mapping = {'angry': 0, 'disgust': 1, 'fear': 2, 'happy': 3, 'neutral': 4, 'sad': 5, 'surprise': 6}\n",
    "    return np.array([label_mapping[label] for label in labels])\n",
    "\n",
    "class EmotionDataset(Dataset):\n",
    "    def __init__(self, dataset_path, transform=None):\n",
    "        self.data, self.labels = self.load_data(dataset_path)\n",
    "        self.transform = transform\n",
    "\n",
    "    def __len__(self):\n",
    "        return len(self.labels)\n",
    "\n",
    "    def __getitem__(self, idx):\n",
    "        image = self.data[idx]\n",
    "        label = self.labels[idx]\n",
    "        if self.transform:\n",
    "            image = self.transform(image)\n",
    "        return image, label\n",
    "    \n",
    "    @staticmethod\n",
    "    def load_data(dataset_path):\n",
    "        data = []\n",
    "        labels = []\n",
    "\n",
    "        for emotion_folder in os.listdir(dataset_path):\n",
    "            emotion_path = os.path.join(dataset_path, emotion_folder)\n",
    "            for img_name in os.listdir(emotion_path):\n",
    "                img_path = os.path.join(emotion_path, img_name)\n",
    "                img = cv2.imread(img_path)\n",
    "                data.append(img)\n",
    "                labels.append(emotion_folder)\n",
    "\n",
    "        return np.array(data), extract_labels(labels)\n",
    "    \n",
    "    \n"
   ]
  },
  {
   "cell_type": "code",
   "execution_count": 2,
   "id": "8e512e15",
   "metadata": {},
   "outputs": [],
   "source": [
    "transform = transforms.Compose([\n",
    "    transforms.ToPILImage(),\n",
    "    transforms.Resize((224, 224)),\n",
    "    transforms.ToTensor(),\n",
    "    transforms.Normalize(mean=[0.485, 0.456, 0.406], std=[0.229, 0.224, 0.225]),\n",
    "])"
   ]
  },
  {
   "cell_type": "code",
   "execution_count": 3,
   "id": "fe219061",
   "metadata": {},
   "outputs": [],
   "source": [
    "train_path = 'FER2013/train'\n",
    "absolute_train_path = os.path.abspath(train_path)\n",
    "\n",
    "test_path = 'FER2013/test'\n",
    "absolute_test_path = os.path.abspath(test_path)\n",
    "\n",
    "train_dataset = EmotionDataset(absolute_train_path, transform=transform)\n",
    "test_dataset = EmotionDataset(absolute_test_path, transform=transform)\n",
    "\n",
    "train_loader = DataLoader(train_dataset, batch_size=32, shuffle=True)\n",
    "test_loader = DataLoader(test_dataset, batch_size=32, shuffle=True)"
   ]
  },
  {
   "cell_type": "markdown",
   "id": "31a522fd",
   "metadata": {},
   "source": [
    "Load pre-trained model"
   ]
  },
  {
   "cell_type": "code",
   "execution_count": 4,
   "id": "2ec0a690-4061-419a-a662-0fd72d6d457a",
   "metadata": {},
   "outputs": [
    {
     "name": "stdout",
     "output_type": "stream",
     "text": [
      "Using GPU for computation!\n"
     ]
    }
   ],
   "source": [
    "# Check if a GPU is available\n",
    "if torch.cuda.is_available():\n",
    "    device = torch.device(\"cuda\") # Use the GPU for computation\n",
    "    print(\"Using GPU for computation!\")\n",
    "else:\n",
    "    device = torch.device(\"cpu\") # Use the CPU for computation\n",
    "    print(\"Using CPU for computation!\")"
   ]
  },
  {
   "cell_type": "code",
   "execution_count": 5,
   "id": "3bc22cb3",
   "metadata": {},
   "outputs": [
    {
     "name": "stderr",
     "output_type": "stream",
     "text": [
      "C:\\Users\\zyz20\\anaconda3\\envs\\gpu\\Lib\\site-packages\\torchvision\\models\\_utils.py:208: UserWarning: The parameter 'pretrained' is deprecated since 0.13 and may be removed in the future, please use 'weights' instead.\n",
      "  warnings.warn(\n",
      "C:\\Users\\zyz20\\anaconda3\\envs\\gpu\\Lib\\site-packages\\torchvision\\models\\_utils.py:223: UserWarning: Arguments other than a weight enum or `None` for 'weights' are deprecated since 0.13 and may be removed in the future. The current behavior is equivalent to passing `weights=ResNet18_Weights.IMAGENET1K_V1`. You can also use `weights=ResNet18_Weights.DEFAULT` to get the most up-to-date weights.\n",
      "  warnings.warn(msg)\n"
     ]
    }
   ],
   "source": [
    "from torchvision import transforms, models\n",
    "\n",
    "model = models.resnet18(pretrained=True)\n",
    "\n",
    "# Modify the final layer to match the number of classes in your dataset\n",
    "num_ftrs = model.fc.in_features\n",
    "model.fc = torch.nn.Linear(num_ftrs, 7)  "
   ]
  },
  {
   "cell_type": "code",
   "execution_count": 6,
   "id": "954c3a23-e190-4d49-8974-c72a60c362b8",
   "metadata": {},
   "outputs": [],
   "source": [
    "criterion = torch.nn.CrossEntropyLoss()\n",
    "optimizer = torch.optim.Adam(model.parameters(), lr=0.001)"
   ]
  },
  {
   "cell_type": "code",
   "execution_count": 7,
   "id": "5d0f7f2d",
   "metadata": {},
   "outputs": [
    {
     "name": "stdout",
     "output_type": "stream",
     "text": [
      "Using device: cuda\n"
     ]
    }
   ],
   "source": [
    "if torch.cuda.is_available():\n",
    "    model.to('cuda')\n",
    "    for state in optimizer.state.values():\n",
    "        for k, v in state.items():\n",
    "            if isinstance(v, torch.Tensor):\n",
    "                state[k] = v.to('cuda')\n",
    "else:\n",
    "    device = torch.device('cpu')\n",
    "print('Using device:', device)"
   ]
  },
  {
   "cell_type": "markdown",
   "id": "5ebdf996",
   "metadata": {},
   "source": [
    "Define Loss function and optimiztion"
   ]
  },
  {
   "cell_type": "code",
   "execution_count": 8,
   "id": "15ccddae",
   "metadata": {},
   "outputs": [],
   "source": [
    "# Modify the loss function and optimizer to work with GPU\n",
    "criterion = criterion.to(device)"
   ]
  },
  {
   "cell_type": "code",
   "execution_count": 9,
   "id": "9093ee3b",
   "metadata": {},
   "outputs": [
    {
     "name": "stdout",
     "output_type": "stream",
     "text": [
      "Epoch 1/30, Loss: 1.2345, Accuracy: 0.4660\n",
      "Epoch 2/30, Loss: 1.9866, Accuracy: 0.5966\n",
      "Epoch 3/30, Loss: 0.4802, Accuracy: 0.6403\n",
      "Epoch 4/30, Loss: 1.2887, Accuracy: 0.6940\n",
      "Epoch 5/30, Loss: 1.1554, Accuracy: 0.7484\n",
      "Epoch 6/30, Loss: 0.4187, Accuracy: 0.8146\n",
      "Epoch 7/30, Loss: 0.8042, Accuracy: 0.8877\n",
      "Epoch 8/30, Loss: 0.4048, Accuracy: 0.9273\n",
      "Epoch 9/30, Loss: 0.0059, Accuracy: 0.9449\n",
      "Epoch 10/30, Loss: 0.1094, Accuracy: 0.9643\n",
      "Epoch 11/30, Loss: 0.4074, Accuracy: 0.9632\n",
      "Epoch 12/30, Loss: 0.0211, Accuracy: 0.9669\n",
      "Epoch 13/30, Loss: 0.1052, Accuracy: 0.9736\n",
      "Epoch 14/30, Loss: 0.4611, Accuracy: 0.9754\n",
      "Epoch 15/30, Loss: 0.0118, Accuracy: 0.9738\n",
      "Epoch 16/30, Loss: 0.4872, Accuracy: 0.9784\n",
      "Epoch 17/30, Loss: 0.2120, Accuracy: 0.9650\n",
      "Epoch 18/30, Loss: 0.0514, Accuracy: 0.9790\n",
      "Epoch 19/30, Loss: 0.0100, Accuracy: 0.9828\n",
      "Epoch 20/30, Loss: 0.0003, Accuracy: 0.9806\n",
      "Epoch 21/30, Loss: 0.0351, Accuracy: 0.9836\n",
      "Epoch 22/30, Loss: 0.0493, Accuracy: 0.9815\n",
      "Epoch 23/30, Loss: 0.0664, Accuracy: 0.9838\n",
      "Epoch 24/30, Loss: 0.1809, Accuracy: 0.9841\n",
      "Epoch 25/30, Loss: 0.0005, Accuracy: 0.9843\n",
      "Epoch 26/30, Loss: 0.8640, Accuracy: 0.9881\n",
      "Epoch 27/30, Loss: 0.0284, Accuracy: 0.9761\n",
      "Epoch 28/30, Loss: 0.0077, Accuracy: 0.9896\n",
      "Epoch 29/30, Loss: 0.0029, Accuracy: 0.9844\n",
      "Epoch 30/30, Loss: 0.0346, Accuracy: 0.9863\n"
     ]
    }
   ],
   "source": [
    "num_epochs = 30\n",
    "\n",
    "for epoch in range(num_epochs):\n",
    "\n",
    "    model.train()\n",
    "    \n",
    "    train_accuracy = 0\n",
    "    num_correct = 0\n",
    "    num_samples = 0\n",
    "    \n",
    "    for inputs, labels in train_loader: \n",
    "     \n",
    "        optimizer.zero_grad()\n",
    "        \n",
    "        # Forward pass\n",
    "        inputs = inputs.to(device) \n",
    "        labels = labels.long().to(device)\n",
    "        \n",
    "        outputs = model(inputs)\n",
    "        _, preds = torch.max(outputs, 1)\n",
    "        \n",
    "        loss = criterion(outputs, labels)\n",
    "        loss.backward()\n",
    "        optimizer.step()\n",
    "        \n",
    "        # Calculate accuracy\n",
    "        num_correct += (preds == labels).sum()\n",
    "        num_samples += labels.size(0)\n",
    "        acc = float(num_correct) / num_samples\n",
    "        train_accuracy += acc\n",
    "        \n",
    "    # Print epoch loss and accuracy\n",
    "    avg_acc = train_accuracy / len(train_loader)            \n",
    "    print(f'Epoch {epoch+1}/{num_epochs}, Loss: {loss.item():.4f}, Accuracy: {avg_acc:.4f}')"
   ]
  },
  {
   "cell_type": "code",
   "execution_count": 10,
   "id": "0df0dc9e",
   "metadata": {},
   "outputs": [
    {
     "name": "stdout",
     "output_type": "stream",
     "text": [
      "<class 'torch.Tensor'>\n",
      "<class 'torch.Tensor'>\n",
      "tensor([[[[ 2.2489,  2.2489,  2.2489,  ...,  2.2318,  2.2318,  2.2318],\n",
      "          [ 2.2489,  2.2489,  2.2489,  ...,  2.2318,  2.2318,  2.2318],\n",
      "          [ 2.2489,  2.2489,  2.2489,  ...,  2.2318,  2.2318,  2.2318],\n",
      "          ...,\n",
      "          [ 1.6153,  1.6153,  1.6153,  ...,  2.2318,  2.2318,  2.2318],\n",
      "          [ 1.6324,  1.6324,  1.6324,  ...,  2.2318,  2.2318,  2.2318],\n",
      "          [ 1.6324,  1.6324,  1.6324,  ...,  2.2318,  2.2318,  2.2318]],\n",
      "\n",
      "         [[ 2.4286,  2.4286,  2.4286,  ...,  2.4111,  2.4111,  2.4111],\n",
      "          [ 2.4286,  2.4286,  2.4286,  ...,  2.4111,  2.4111,  2.4111],\n",
      "          [ 2.4286,  2.4286,  2.4286,  ...,  2.4111,  2.4111,  2.4111],\n",
      "          ...,\n",
      "          [ 1.7808,  1.7808,  1.7808,  ...,  2.4111,  2.4111,  2.4111],\n",
      "          [ 1.7983,  1.7983,  1.7983,  ...,  2.4111,  2.4111,  2.4111],\n",
      "          [ 1.7983,  1.7983,  1.7983,  ...,  2.4111,  2.4111,  2.4111]],\n",
      "\n",
      "         [[ 2.6400,  2.6400,  2.6400,  ...,  2.6226,  2.6226,  2.6226],\n",
      "          [ 2.6400,  2.6400,  2.6400,  ...,  2.6226,  2.6226,  2.6226],\n",
      "          [ 2.6400,  2.6400,  2.6400,  ...,  2.6226,  2.6226,  2.6226],\n",
      "          ...,\n",
      "          [ 1.9951,  1.9951,  1.9951,  ...,  2.6226,  2.6226,  2.6226],\n",
      "          [ 2.0125,  2.0125,  2.0125,  ...,  2.6226,  2.6226,  2.6226],\n",
      "          [ 2.0125,  2.0125,  2.0125,  ...,  2.6226,  2.6226,  2.6226]]],\n",
      "\n",
      "\n",
      "        [[[-1.6042, -1.6042, -1.5870,  ..., -0.9534, -0.9534, -0.9534],\n",
      "          [-1.6042, -1.6042, -1.5870,  ..., -0.9534, -0.9534, -0.9534],\n",
      "          [-1.6042, -1.6042, -1.5870,  ..., -0.9534, -0.9534, -0.9534],\n",
      "          ...,\n",
      "          [-0.5767, -0.5767, -0.5767,  ...,  0.7248,  0.7248,  0.7248],\n",
      "          [-0.5767, -0.5767, -0.5767,  ...,  0.7248,  0.7248,  0.7248],\n",
      "          [-0.5767, -0.5767, -0.5767,  ...,  0.7248,  0.7248,  0.7248]],\n",
      "\n",
      "         [[-1.5105, -1.5105, -1.4930,  ..., -0.8452, -0.8452, -0.8452],\n",
      "          [-1.5105, -1.5105, -1.4930,  ..., -0.8452, -0.8452, -0.8452],\n",
      "          [-1.5105, -1.5105, -1.4930,  ..., -0.8452, -0.8452, -0.8452],\n",
      "          ...,\n",
      "          [-0.4601, -0.4601, -0.4601,  ...,  0.8704,  0.8704,  0.8704],\n",
      "          [-0.4601, -0.4601, -0.4601,  ...,  0.8704,  0.8704,  0.8704],\n",
      "          [-0.4601, -0.4601, -0.4601,  ...,  0.8704,  0.8704,  0.8704]],\n",
      "\n",
      "         [[-1.2816, -1.2816, -1.2641,  ..., -0.6193, -0.6193, -0.6193],\n",
      "          [-1.2816, -1.2816, -1.2641,  ..., -0.6193, -0.6193, -0.6193],\n",
      "          [-1.2816, -1.2816, -1.2641,  ..., -0.6193, -0.6193, -0.6193],\n",
      "          ...,\n",
      "          [-0.2358, -0.2358, -0.2358,  ...,  1.0888,  1.0888,  1.0888],\n",
      "          [-0.2358, -0.2358, -0.2358,  ...,  1.0888,  1.0888,  1.0888],\n",
      "          [-0.2358, -0.2358, -0.2358,  ...,  1.0888,  1.0888,  1.0888]]],\n",
      "\n",
      "\n",
      "        [[[-2.0152, -2.0152, -2.0152,  ..., -1.5357, -1.5357, -1.5357],\n",
      "          [-2.0152, -2.0152, -2.0152,  ..., -1.5357, -1.5357, -1.5357],\n",
      "          [-2.0152, -2.0152, -2.0152,  ..., -1.5357, -1.5357, -1.5357],\n",
      "          ...,\n",
      "          [-1.5357, -1.5357, -1.5528,  ...,  0.9988,  1.0673,  1.0673],\n",
      "          [-1.5870, -1.5870, -1.6042,  ...,  0.9988,  1.0673,  1.0673],\n",
      "          [-1.5870, -1.5870, -1.6042,  ...,  0.9988,  1.0673,  1.0673]],\n",
      "\n",
      "         [[-1.9307, -1.9307, -1.9307,  ..., -1.4405, -1.4405, -1.4405],\n",
      "          [-1.9307, -1.9307, -1.9307,  ..., -1.4405, -1.4405, -1.4405],\n",
      "          [-1.9307, -1.9307, -1.9307,  ..., -1.4405, -1.4405, -1.4405],\n",
      "          ...,\n",
      "          [-1.4405, -1.4405, -1.4580,  ...,  1.1506,  1.2206,  1.2206],\n",
      "          [-1.4930, -1.4930, -1.5105,  ...,  1.1506,  1.2206,  1.2206],\n",
      "          [-1.4930, -1.4930, -1.5105,  ...,  1.1506,  1.2206,  1.2206]],\n",
      "\n",
      "         [[-1.6999, -1.6999, -1.6999,  ..., -1.2119, -1.2119, -1.2119],\n",
      "          [-1.6999, -1.6999, -1.6999,  ..., -1.2119, -1.2119, -1.2119],\n",
      "          [-1.6999, -1.6999, -1.6999,  ..., -1.2119, -1.2119, -1.2119],\n",
      "          ...,\n",
      "          [-1.2119, -1.2119, -1.2293,  ...,  1.3677,  1.4374,  1.4374],\n",
      "          [-1.2641, -1.2641, -1.2816,  ...,  1.3677,  1.4374,  1.4374],\n",
      "          [-1.2641, -1.2641, -1.2816,  ...,  1.3677,  1.4374,  1.4374]]],\n",
      "\n",
      "\n",
      "        ...,\n",
      "\n",
      "\n",
      "        [[[-1.5014, -1.5014, -1.5014,  ..., -2.0494, -2.0494, -2.0494],\n",
      "          [-1.5014, -1.5014, -1.5014,  ..., -2.0494, -2.0494, -2.0494],\n",
      "          [-1.5014, -1.5014, -1.5014,  ..., -2.0494, -2.0494, -2.0494],\n",
      "          ...,\n",
      "          [-1.6727, -1.6727, -1.6727,  ..., -1.8953, -1.8953, -1.8953],\n",
      "          [-1.6727, -1.6727, -1.6727,  ..., -1.8953, -1.8953, -1.8953],\n",
      "          [-1.6727, -1.6727, -1.6727,  ..., -1.8953, -1.8953, -1.8953]],\n",
      "\n",
      "         [[-1.4055, -1.4055, -1.4055,  ..., -1.9657, -1.9657, -1.9657],\n",
      "          [-1.4055, -1.4055, -1.4055,  ..., -1.9657, -1.9657, -1.9657],\n",
      "          [-1.4055, -1.4055, -1.4055,  ..., -1.9657, -1.9657, -1.9657],\n",
      "          ...,\n",
      "          [-1.5805, -1.5805, -1.5805,  ..., -1.8081, -1.8081, -1.8081],\n",
      "          [-1.5805, -1.5805, -1.5805,  ..., -1.8081, -1.8081, -1.8081],\n",
      "          [-1.5805, -1.5805, -1.5805,  ..., -1.8081, -1.8081, -1.8081]],\n",
      "\n",
      "         [[-1.1770, -1.1770, -1.1770,  ..., -1.7347, -1.7347, -1.7347],\n",
      "          [-1.1770, -1.1770, -1.1770,  ..., -1.7347, -1.7347, -1.7347],\n",
      "          [-1.1770, -1.1770, -1.1770,  ..., -1.7347, -1.7347, -1.7347],\n",
      "          ...,\n",
      "          [-1.3513, -1.3513, -1.3513,  ..., -1.5779, -1.5779, -1.5779],\n",
      "          [-1.3513, -1.3513, -1.3513,  ..., -1.5779, -1.5779, -1.5779],\n",
      "          [-1.3513, -1.3513, -1.3513,  ..., -1.5779, -1.5779, -1.5779]]],\n",
      "\n",
      "\n",
      "        [[[-1.6384, -1.6384, -1.6213,  ...,  1.5639,  1.5639,  1.5639],\n",
      "          [-1.6384, -1.6384, -1.6213,  ...,  1.5639,  1.5639,  1.5639],\n",
      "          [-1.6213, -1.6213, -1.6042,  ...,  1.5639,  1.5639,  1.5639],\n",
      "          ...,\n",
      "          [-1.6213, -1.6213, -1.6042,  ..., -1.4158, -1.4158, -1.4158],\n",
      "          [-1.6213, -1.6213, -1.6042,  ..., -1.3987, -1.3987, -1.3987],\n",
      "          [-1.6213, -1.6213, -1.6042,  ..., -1.3987, -1.3987, -1.3987]],\n",
      "\n",
      "         [[-1.5455, -1.5455, -1.5280,  ...,  1.7283,  1.7283,  1.7283],\n",
      "          [-1.5455, -1.5455, -1.5280,  ...,  1.7283,  1.7283,  1.7283],\n",
      "          [-1.5280, -1.5280, -1.5105,  ...,  1.7283,  1.7283,  1.7283],\n",
      "          ...,\n",
      "          [-1.5280, -1.5280, -1.5105,  ..., -1.3179, -1.3179, -1.3179],\n",
      "          [-1.5280, -1.5280, -1.5105,  ..., -1.3004, -1.3004, -1.3004],\n",
      "          [-1.5280, -1.5280, -1.5105,  ..., -1.3004, -1.3004, -1.3004]],\n",
      "\n",
      "         [[-1.3164, -1.3164, -1.2990,  ...,  1.9428,  1.9428,  1.9428],\n",
      "          [-1.3164, -1.3164, -1.2990,  ...,  1.9428,  1.9428,  1.9428],\n",
      "          [-1.2990, -1.2990, -1.2816,  ...,  1.9428,  1.9428,  1.9428],\n",
      "          ...,\n",
      "          [-1.2990, -1.2990, -1.2816,  ..., -1.0898, -1.0898, -1.0898],\n",
      "          [-1.2990, -1.2990, -1.2816,  ..., -1.0724, -1.0724, -1.0724],\n",
      "          [-1.2990, -1.2990, -1.2816,  ..., -1.0724, -1.0724, -1.0724]]],\n",
      "\n",
      "\n",
      "        [[[ 2.2489,  2.2489,  2.2489,  ...,  2.2147,  2.2318,  2.2318],\n",
      "          [ 2.2489,  2.2489,  2.2489,  ...,  2.2147,  2.2318,  2.2318],\n",
      "          [ 2.2489,  2.2489,  2.2489,  ...,  2.2147,  2.2318,  2.2318],\n",
      "          ...,\n",
      "          [ 1.6495,  1.6495,  1.6324,  ...,  1.0844,  1.0844,  1.0844],\n",
      "          [ 1.6495,  1.6495,  1.6324,  ...,  1.0844,  1.0844,  1.0844],\n",
      "          [ 1.6495,  1.6495,  1.6324,  ...,  1.0844,  1.0844,  1.0844]],\n",
      "\n",
      "         [[ 2.4286,  2.4286,  2.4286,  ...,  2.3936,  2.4111,  2.4111],\n",
      "          [ 2.4286,  2.4286,  2.4286,  ...,  2.3936,  2.4111,  2.4111],\n",
      "          [ 2.4286,  2.4286,  2.4286,  ...,  2.3936,  2.4111,  2.4111],\n",
      "          ...,\n",
      "          [ 1.8158,  1.8158,  1.7983,  ...,  1.2381,  1.2381,  1.2381],\n",
      "          [ 1.8158,  1.8158,  1.7983,  ...,  1.2381,  1.2381,  1.2381],\n",
      "          [ 1.8158,  1.8158,  1.7983,  ...,  1.2381,  1.2381,  1.2381]],\n",
      "\n",
      "         [[ 2.6400,  2.6400,  2.6400,  ...,  2.6051,  2.6226,  2.6226],\n",
      "          [ 2.6400,  2.6400,  2.6400,  ...,  2.6051,  2.6226,  2.6226],\n",
      "          [ 2.6400,  2.6400,  2.6400,  ...,  2.6051,  2.6226,  2.6226],\n",
      "          ...,\n",
      "          [ 2.0300,  2.0300,  2.0125,  ...,  1.4548,  1.4548,  1.4548],\n",
      "          [ 2.0300,  2.0300,  2.0125,  ...,  1.4548,  1.4548,  1.4548],\n",
      "          [ 2.0300,  2.0300,  2.0125,  ...,  1.4548,  1.4548,  1.4548]]]])\n",
      "tensor([5, 3, 0, 0, 5, 3, 5, 5, 2, 0, 6, 3, 6, 6, 3, 5, 6, 4, 3, 3, 0, 5, 3, 6,\n",
      "        0, 4, 4, 3, 4, 5, 2, 2], dtype=torch.int32)\n"
     ]
    }
   ],
   "source": [
    "for inputs, labels in train_loader:\n",
    "\n",
    "    print(type(inputs))\n",
    "    print(type(labels))\n",
    "    print(inputs)\n",
    "    print(labels)\n",
    "    break"
   ]
  },
  {
   "cell_type": "code",
   "execution_count": 11,
   "id": "262f5974",
   "metadata": {},
   "outputs": [
    {
     "name": "stdout",
     "output_type": "stream",
     "text": [
      "Test Accuracy: 0.6340\n"
     ]
    }
   ],
   "source": [
    "model.eval()\n",
    "test_accuracy = 0  \n",
    "num_correct = 0\n",
    "num_samples = 0\n",
    "\n",
    "with torch.no_grad():\n",
    "    for inputs, labels in test_loader:\n",
    "        inputs = inputs.to(device)\n",
    "        labels = labels.long().to(device)\n",
    "        \n",
    "        outputs = model(inputs)\n",
    "        _, preds = torch.max(outputs, 1)\n",
    "\n",
    "        num_correct += (preds == labels).sum()\n",
    "        num_samples += labels.size(0)\n",
    "        acc = float(num_correct) / num_samples\n",
    "        test_accuracy += acc\n",
    "\n",
    "print(f'Test Accuracy: {test_accuracy / len(test_loader):.4f}')"
   ]
  },
  {
   "cell_type": "code",
   "execution_count": 13,
   "id": "6d0a9140-b4f3-40ee-b28f-e1b6fadd51a5",
   "metadata": {},
   "outputs": [],
   "source": [
    "model_scripted = torch.jit.script(model) # Export to TorchScript\n",
    "model_scripted.save('model_resNet_30.pt') "
   ]
  },
  {
   "cell_type": "code",
   "execution_count": null,
   "id": "4d19ac5d",
   "metadata": {},
   "outputs": [],
   "source": []
  },
  {
   "cell_type": "code",
   "execution_count": null,
   "id": "a14c0647",
   "metadata": {},
   "outputs": [],
   "source": []
  },
  {
   "cell_type": "code",
   "execution_count": null,
   "id": "36adc108",
   "metadata": {},
   "outputs": [],
   "source": []
  }
 ],
 "metadata": {
  "kernelspec": {
   "display_name": "Python 3 (ipykernel)",
   "language": "python",
   "name": "python3"
  },
  "language_info": {
   "codemirror_mode": {
    "name": "ipython",
    "version": 3
   },
   "file_extension": ".py",
   "mimetype": "text/x-python",
   "name": "python",
   "nbconvert_exporter": "python",
   "pygments_lexer": "ipython3",
   "version": "3.11.5"
  }
 },
 "nbformat": 4,
 "nbformat_minor": 5
}
