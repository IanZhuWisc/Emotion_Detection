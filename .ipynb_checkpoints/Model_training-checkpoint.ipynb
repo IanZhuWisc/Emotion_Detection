{
 "cells": [
  {
   "cell_type": "code",
   "execution_count": 43,
   "id": "658ea938",
   "metadata": {},
   "outputs": [],
   "source": [
    "import os\n",
    "import cv2\n",
    "import numpy as np\n",
    "import torch\n",
    "from torch.utils.data import Dataset, DataLoader\n",
    "from torchvision import transforms\n",
    "import torchvision.transforms.functional as TF\n",
    "\n",
    "def extract_labels(labels):\n",
    "    # Map emotion labels to integers\n",
    "    label_mapping = {'angry': 0, 'disgust': 1, 'fear': 2, 'happy': 3, 'neutral': 4, 'sad': 5, 'surprise': 6}\n",
    "    return np.array([label_mapping[label] for label in labels])\n",
    "\n",
    "class EmotionDataset(Dataset):\n",
    "    def __init__(self, dataset_path, transform=None):\n",
    "        self.data, self.labels = self.load_data(dataset_path)\n",
    "        self.transform = transform\n",
    "\n",
    "    def __len__(self):\n",
    "        return len(self.labels)\n",
    "\n",
    "    def __getitem__(self, idx):\n",
    "        image = self.data[idx]\n",
    "        label = self.labels[idx]\n",
    "        if self.transform:\n",
    "            image = self.transform(image)\n",
    "        return image, label\n",
    "    \n",
    "    @staticmethod\n",
    "    def load_data(dataset_path):\n",
    "        data = []\n",
    "        labels = []\n",
    "\n",
    "        for emotion_folder in os.listdir(dataset_path):\n",
    "            emotion_path = os.path.join(dataset_path, emotion_folder)\n",
    "            for img_name in os.listdir(emotion_path):\n",
    "                img_path = os.path.join(emotion_path, img_name)\n",
    "                img = cv2.imread(img_path)\n",
    "                data.append(img)\n",
    "                labels.append(emotion_folder)\n",
    "\n",
    "        return np.array(data), extract_labels(labels)\n",
    "    \n",
    "    \n"
   ]
  },
  {
   "cell_type": "code",
   "execution_count": 44,
   "id": "8e512e15",
   "metadata": {},
   "outputs": [],
   "source": [
    "transform = transforms.Compose([\n",
    "    transforms.ToPILImage(),\n",
    "    transforms.Resize((224, 224)),\n",
    "    transforms.ToTensor(),\n",
    "    transforms.Normalize(mean=[0.485, 0.456, 0.406], std=[0.229, 0.224, 0.225]),\n",
    "])"
   ]
  },
  {
   "cell_type": "code",
   "execution_count": 45,
   "id": "fe219061",
   "metadata": {},
   "outputs": [
    {
     "ename": "NameError",
     "evalue": "name 'extract_labels' is not defined",
     "output_type": "error",
     "traceback": [
      "\u001b[0;31m---------------------------------------------------------------------------\u001b[0m",
      "\u001b[0;31mNameError\u001b[0m                                 Traceback (most recent call last)",
      "Cell \u001b[0;32mIn[45], line 7\u001b[0m\n\u001b[1;32m      4\u001b[0m test_path \u001b[38;5;241m=\u001b[39m \u001b[38;5;124m'\u001b[39m\u001b[38;5;124mFER2013/test\u001b[39m\u001b[38;5;124m'\u001b[39m\n\u001b[1;32m      5\u001b[0m absolute_test_path \u001b[38;5;241m=\u001b[39m os\u001b[38;5;241m.\u001b[39mpath\u001b[38;5;241m.\u001b[39mabspath(test_path)\n\u001b[0;32m----> 7\u001b[0m train_dataset \u001b[38;5;241m=\u001b[39m \u001b[43mEmotionDataset\u001b[49m\u001b[43m(\u001b[49m\u001b[43mabsolute_train_path\u001b[49m\u001b[43m,\u001b[49m\u001b[43m \u001b[49m\u001b[43mtransform\u001b[49m\u001b[38;5;241;43m=\u001b[39;49m\u001b[43mtransform\u001b[49m\u001b[43m)\u001b[49m\n\u001b[1;32m      8\u001b[0m test_dataset \u001b[38;5;241m=\u001b[39m EmotionDataset(absolute_test_path, transform\u001b[38;5;241m=\u001b[39mtransform)\n\u001b[1;32m     10\u001b[0m train_loader \u001b[38;5;241m=\u001b[39m DataLoader(train_dataset, batch_size\u001b[38;5;241m=\u001b[39m\u001b[38;5;241m32\u001b[39m, shuffle\u001b[38;5;241m=\u001b[39m\u001b[38;5;28;01mTrue\u001b[39;00m)\n",
      "Cell \u001b[0;32mIn[43], line 11\u001b[0m, in \u001b[0;36mEmotionDataset.__init__\u001b[0;34m(self, dataset_path, transform)\u001b[0m\n\u001b[1;32m     10\u001b[0m \u001b[38;5;28;01mdef\u001b[39;00m \u001b[38;5;21m__init__\u001b[39m(\u001b[38;5;28mself\u001b[39m, dataset_path, transform\u001b[38;5;241m=\u001b[39m\u001b[38;5;28;01mNone\u001b[39;00m):\n\u001b[0;32m---> 11\u001b[0m     \u001b[38;5;28mself\u001b[39m\u001b[38;5;241m.\u001b[39mdata, \u001b[38;5;28mself\u001b[39m\u001b[38;5;241m.\u001b[39mlabels \u001b[38;5;241m=\u001b[39m \u001b[38;5;28;43mself\u001b[39;49m\u001b[38;5;241;43m.\u001b[39;49m\u001b[43mload_data\u001b[49m\u001b[43m(\u001b[49m\u001b[43mdataset_path\u001b[49m\u001b[43m)\u001b[49m\n\u001b[1;32m     12\u001b[0m     \u001b[38;5;28mself\u001b[39m\u001b[38;5;241m.\u001b[39mtransform \u001b[38;5;241m=\u001b[39m transform\n",
      "Cell \u001b[0;32mIn[43], line 42\u001b[0m, in \u001b[0;36mEmotionDataset.load_data\u001b[0;34m(dataset_path)\u001b[0m\n\u001b[1;32m     39\u001b[0m         data\u001b[38;5;241m.\u001b[39mappend(img)\n\u001b[1;32m     40\u001b[0m         labels\u001b[38;5;241m.\u001b[39mappend(emotion_folder)\n\u001b[0;32m---> 42\u001b[0m \u001b[38;5;28;01mreturn\u001b[39;00m np\u001b[38;5;241m.\u001b[39marray(data), \u001b[43mextract_labels\u001b[49m(labels)\n",
      "\u001b[0;31mNameError\u001b[0m: name 'extract_labels' is not defined"
     ]
    }
   ],
   "source": [
    "train_path = 'FER2013/train'\n",
    "absolute_train_path = os.path.abspath(train_path)\n",
    "\n",
    "test_path = 'FER2013/test'\n",
    "absolute_test_path = os.path.abspath(test_path)\n",
    "\n",
    "train_dataset = EmotionDataset(absolute_train_path, transform=transform)\n",
    "test_dataset = EmotionDataset(absolute_test_path, transform=transform)\n",
    "\n",
    "train_loader = DataLoader(train_dataset, batch_size=32, shuffle=True)\n",
    "test_loader = DataLoader(test_dataset, batch_size=32, shuffle=True)"
   ]
  },
  {
   "cell_type": "markdown",
   "id": "31a522fd",
   "metadata": {},
   "source": [
    "Load pre-trained model"
   ]
  },
  {
   "cell_type": "code",
   "execution_count": null,
   "id": "3bc22cb3",
   "metadata": {},
   "outputs": [],
   "source": [
    "from torchvision import transforms, models\n",
    "\n",
    "model = models.resnet18(pretrained=True)\n",
    "\n",
    "# Modify the final layer to match the number of classes in your dataset\n",
    "num_ftrs = model.fc.in_features\n",
    "model.fc = torch.nn.Linear(num_ftrs, 7)  "
   ]
  },
  {
   "cell_type": "markdown",
   "id": "5ebdf996",
   "metadata": {},
   "source": [
    "Define Loss function and optimiztion"
   ]
  },
  {
   "cell_type": "code",
   "execution_count": null,
   "id": "82d55dfb",
   "metadata": {},
   "outputs": [],
   "source": [
    "criterion = torch.nn.CrossEntropyLoss()\n",
    "optimizer = torch.optim.Adam(model.parameters(), lr=0.001)"
   ]
  },
  {
   "cell_type": "code",
   "execution_count": null,
   "id": "9093ee3b",
   "metadata": {},
   "outputs": [],
   "source": [
    "num_epochs = 10  # Define the number of epochs\n",
    "\n",
    "for epoch in range(num_epochs):\n",
    "    model.train()\n",
    "    for inputs, labels in train_loader:\n",
    "        optimizer.zero_grad()\n",
    "        outputs = model(inputs)\n",
    "        loss = criterion(outputs, labels)\n",
    "        loss.backward()\n",
    "        optimizer.step()\n",
    "    print(f'Epoch {epoch+1}/{num_epochs}, Loss: {loss.item()}')"
   ]
  },
  {
   "cell_type": "code",
   "execution_count": null,
   "id": "0df0dc9e",
   "metadata": {},
   "outputs": [],
   "source": [
    "for inputs, labels in train_loader:\n",
    "    print(type(inputs))\n",
    "    print(type(labels))\n",
    "    print(inputs)\n",
    "    print(labels)\n",
    "    break"
   ]
  },
  {
   "cell_type": "code",
   "execution_count": null,
   "id": "69446d33",
   "metadata": {},
   "outputs": [],
   "source": []
  }
 ],
 "metadata": {
  "kernelspec": {
   "display_name": "Python 3 (ipykernel)",
   "language": "python",
   "name": "python3"
  },
  "language_info": {
   "codemirror_mode": {
    "name": "ipython",
    "version": 3
   },
   "file_extension": ".py",
   "mimetype": "text/x-python",
   "name": "python",
   "nbconvert_exporter": "python",
   "pygments_lexer": "ipython3",
   "version": "3.10.13"
  }
 },
 "nbformat": 4,
 "nbformat_minor": 5
}
