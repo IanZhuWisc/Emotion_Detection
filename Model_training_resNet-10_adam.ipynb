{
 "cells": [
  {
   "cell_type": "code",
   "execution_count": 1,
   "id": "9ab8bd5d",
   "metadata": {},
   "outputs": [],
   "source": [
    "import os\n",
    "import cv2\n",
    "import numpy as np\n",
    "import torch\n",
    "from torch.utils.data import Dataset, DataLoader\n",
    "from torchvision import transforms\n",
    "import torchvision.transforms.functional as TF\n",
    "\n",
    "def extract_labels(labels):\n",
    "    # Map emotion labels to integers\n",
    "    label_mapping = {'angry': 0, 'disgust': 1, 'fear': 2, 'happy': 3, 'neutral': 4, 'sad': 5, 'surprise': 6}\n",
    "    return np.array([label_mapping[label] for label in labels])\n",
    "\n",
    "class EmotionDataset(Dataset):\n",
    "    def __init__(self, dataset_path, transform=None):\n",
    "        self.data, self.labels = self.load_data(dataset_path)\n",
    "        self.transform = transform\n",
    "\n",
    "    def __len__(self):\n",
    "        return len(self.labels)\n",
    "\n",
    "    def __getitem__(self, idx):\n",
    "        image = self.data[idx]\n",
    "        label = self.labels[idx]\n",
    "        if self.transform:\n",
    "            image = self.transform(image)\n",
    "        return image, label\n",
    "    \n",
    "    @staticmethod\n",
    "    def load_data(dataset_path):\n",
    "        data = []\n",
    "        labels = []\n",
    "\n",
    "        for emotion_folder in os.listdir(dataset_path):\n",
    "            emotion_path = os.path.join(dataset_path, emotion_folder)\n",
    "            for img_name in os.listdir(emotion_path):\n",
    "                img_path = os.path.join(emotion_path, img_name)\n",
    "                img = cv2.imread(img_path)\n",
    "                data.append(img)\n",
    "                labels.append(emotion_folder)\n",
    "\n",
    "        return np.array(data), extract_labels(labels)\n",
    "    \n",
    "    \n"
   ]
  },
  {
   "cell_type": "code",
   "execution_count": 2,
   "id": "8e512e15",
   "metadata": {},
   "outputs": [],
   "source": [
    "transform = transforms.Compose([\n",
    "    transforms.ToPILImage(),\n",
    "    transforms.Resize((224, 224)),\n",
    "    transforms.ToTensor(),\n",
    "    transforms.Normalize(mean=[0.485, 0.456, 0.406], std=[0.229, 0.224, 0.225]),\n",
    "])"
   ]
  },
  {
   "cell_type": "code",
   "execution_count": 3,
   "id": "fe219061",
   "metadata": {},
   "outputs": [],
   "source": [
    "train_path = 'FER2013/train'\n",
    "absolute_train_path = os.path.abspath(train_path)\n",
    "\n",
    "test_path = 'FER2013/test'\n",
    "absolute_test_path = os.path.abspath(test_path)\n",
    "\n",
    "train_dataset = EmotionDataset(absolute_train_path, transform=transform)\n",
    "test_dataset = EmotionDataset(absolute_test_path, transform=transform)\n",
    "\n",
    "train_loader = DataLoader(train_dataset, batch_size=32, shuffle=True)\n",
    "test_loader = DataLoader(test_dataset, batch_size=32, shuffle=True)"
   ]
  },
  {
   "cell_type": "markdown",
   "id": "31a522fd",
   "metadata": {},
   "source": [
    "Load pre-trained model"
   ]
  },
  {
   "cell_type": "code",
   "execution_count": 4,
   "id": "2ec0a690-4061-419a-a662-0fd72d6d457a",
   "metadata": {},
   "outputs": [
    {
     "name": "stdout",
     "output_type": "stream",
     "text": [
      "Using GPU for computation!\n"
     ]
    }
   ],
   "source": [
    "# Check if a GPU is available\n",
    "if torch.cuda.is_available():\n",
    "    device = torch.device(\"cuda\") # Use the GPU for computation\n",
    "    print(\"Using GPU for computation!\")\n",
    "else:\n",
    "    device = torch.device(\"cpu\") # Use the CPU for computation\n",
    "    print(\"Using CPU for computation!\")"
   ]
  },
  {
   "cell_type": "code",
   "execution_count": 5,
   "id": "3bc22cb3",
   "metadata": {},
   "outputs": [
    {
     "name": "stderr",
     "output_type": "stream",
     "text": [
      "C:\\Users\\zyz20\\anaconda3\\envs\\gpu\\Lib\\site-packages\\torchvision\\models\\_utils.py:208: UserWarning: The parameter 'pretrained' is deprecated since 0.13 and may be removed in the future, please use 'weights' instead.\n",
      "  warnings.warn(\n",
      "C:\\Users\\zyz20\\anaconda3\\envs\\gpu\\Lib\\site-packages\\torchvision\\models\\_utils.py:223: UserWarning: Arguments other than a weight enum or `None` for 'weights' are deprecated since 0.13 and may be removed in the future. The current behavior is equivalent to passing `weights=ResNet18_Weights.IMAGENET1K_V1`. You can also use `weights=ResNet18_Weights.DEFAULT` to get the most up-to-date weights.\n",
      "  warnings.warn(msg)\n"
     ]
    }
   ],
   "source": [
    "from torchvision import transforms, models\n",
    "\n",
    "model = models.resnet18(pretrained=True)\n",
    "\n",
    "# Modify the final layer to match the number of classes in your dataset\n",
    "num_ftrs = model.fc.in_features\n",
    "model.fc = torch.nn.Linear(num_ftrs, 7)  "
   ]
  },
  {
   "cell_type": "code",
   "execution_count": 6,
   "id": "954c3a23-e190-4d49-8974-c72a60c362b8",
   "metadata": {},
   "outputs": [],
   "source": [
    "criterion = torch.nn.CrossEntropyLoss()\n",
    "optimizer = torch.optim.Adam(model.parameters(), lr=0.001)"
   ]
  },
  {
   "cell_type": "code",
   "execution_count": 7,
   "id": "5d0f7f2d",
   "metadata": {},
   "outputs": [
    {
     "name": "stdout",
     "output_type": "stream",
     "text": [
      "Using device: cuda\n"
     ]
    }
   ],
   "source": [
    "if torch.cuda.is_available():\n",
    "    model.to('cuda')\n",
    "    for state in optimizer.state.values():\n",
    "        for k, v in state.items():\n",
    "            if isinstance(v, torch.Tensor):\n",
    "                state[k] = v.to('cuda')\n",
    "else:\n",
    "    device = torch.device('cpu')\n",
    "print('Using device:', device)"
   ]
  },
  {
   "cell_type": "markdown",
   "id": "5ebdf996",
   "metadata": {},
   "source": [
    "Define Loss function and optimiztion"
   ]
  },
  {
   "cell_type": "code",
   "execution_count": 8,
   "id": "15ccddae",
   "metadata": {},
   "outputs": [],
   "source": [
    "# Modify the loss function and optimizer to work with GPU\n",
    "criterion = criterion.to(device)"
   ]
  },
  {
   "cell_type": "code",
   "execution_count": 9,
   "id": "8e73e049-bbb8-4c84-8697-706370bb4188",
   "metadata": {},
   "outputs": [],
   "source": [
    "def testset(model, test_loader, device):\n",
    "    model.eval()\n",
    "    test_accuracy = 0  \n",
    "    num_correct = 0\n",
    "    num_samples = 0\n",
    "    \n",
    "    with torch.no_grad():\n",
    "        for inputs, labels in test_loader:\n",
    "            inputs = inputs.to(device)\n",
    "            labels = labels.long().to(device)\n",
    "            \n",
    "            outputs = model(inputs)\n",
    "            _, preds = torch.max(outputs, 1)\n",
    "    \n",
    "            num_correct += (preds == labels).sum()\n",
    "            num_samples += labels.size(0)\n",
    "            acc = float(num_correct) / num_samples\n",
    "            test_accuracy += acc\n",
    "    \n",
    "    print(f'Test Accuracy: {test_accuracy / len(test_loader):.4f}')\n",
    "    return test_accuracy / len(test_loader)"
   ]
  },
  {
   "cell_type": "code",
   "execution_count": 11,
   "id": "9093ee3b",
   "metadata": {},
   "outputs": [
    {
     "name": "stdout",
     "output_type": "stream",
     "text": [
      "Epoch 1/10, Loss: 1.9875, Accuracy: 0.5912\n",
      "Test Accuracy: 0.5931\n",
      "Epoch 2/10, Loss: 0.7411, Accuracy: 0.6447\n",
      "Test Accuracy: 0.6140\n",
      "Epoch 3/10, Loss: 1.4603, Accuracy: 0.6837\n",
      "Test Accuracy: 0.6308\n",
      "Epoch 4/10, Loss: 0.9815, Accuracy: 0.7378\n",
      "Test Accuracy: 0.6109\n",
      "Epoch 5/10, Loss: 1.2956, Accuracy: 0.8081\n",
      "Test Accuracy: 0.6366\n",
      "Epoch 6/10, Loss: 0.7183, Accuracy: 0.8831\n",
      "Test Accuracy: 0.6393\n",
      "Epoch 7/10, Loss: 0.4710, Accuracy: 0.9245\n",
      "Test Accuracy: 0.6210\n",
      "Epoch 8/10, Loss: 0.0184, Accuracy: 0.9405\n",
      "Test Accuracy: 0.6397\n",
      "Epoch 9/10, Loss: 0.0093, Accuracy: 0.9614\n",
      "Test Accuracy: 0.6434\n",
      "Epoch 10/10, Loss: 0.0015, Accuracy: 0.9675\n",
      "Test Accuracy: 0.6316\n"
     ]
    }
   ],
   "source": [
    "num_epochs = 10\n",
    "training_Acc = []\n",
    "testing_Acc = []\n",
    "\n",
    "for epoch in range(num_epochs):\n",
    "\n",
    "    model.train()\n",
    "    \n",
    "    train_accuracy = 0\n",
    "    num_correct = 0\n",
    "    num_samples = 0\n",
    "    \n",
    "    for inputs, labels in train_loader: \n",
    "     \n",
    "        optimizer.zero_grad()\n",
    "        \n",
    "        # Forward pass\n",
    "        inputs = inputs.to(device) \n",
    "        labels = labels.long().to(device)\n",
    "        \n",
    "        outputs = model(inputs)\n",
    "        _, preds = torch.max(outputs, 1)\n",
    "        \n",
    "        loss = criterion(outputs, labels)\n",
    "        loss.backward()\n",
    "        optimizer.step()\n",
    "        \n",
    "        # Calculate accuracy\n",
    "        num_correct += (preds == labels).sum()\n",
    "        num_samples += labels.size(0)\n",
    "        acc = float(num_correct) / num_samples\n",
    "        train_accuracy += acc\n",
    "        \n",
    "    # Print epoch loss and accuracy\n",
    "    avg_acc = train_accuracy / len(train_loader)     \n",
    "    training_Acc.append(avg_acc)\n",
    "    print(f'Epoch {epoch+1}/{num_epochs}, Loss: {loss.item():.4f}, Accuracy: {avg_acc:.4f}')\n",
    "    test_acc = testset(model, test_loader, device)\n",
    "    testing_Acc.append(test_acc)"
   ]
  },
  {
   "cell_type": "code",
   "execution_count": null,
   "id": "0df0dc9e",
   "metadata": {},
   "outputs": [],
   "source": [
    "for inputs, labels in train_loader:\n",
    "\n",
    "    print(type(inputs))\n",
    "    print(type(labels))\n",
    "    print(inputs)\n",
    "    print(labels)\n",
    "    break"
   ]
  },
  {
   "cell_type": "code",
   "execution_count": null,
   "id": "262f5974",
   "metadata": {},
   "outputs": [],
   "source": [
    "test_acc = testset(model, test_loader, device)"
   ]
  },
  {
   "cell_type": "code",
   "execution_count": null,
   "id": "6d0a9140-b4f3-40ee-b28f-e1b6fadd51a5",
   "metadata": {},
   "outputs": [],
   "source": [
    "torch.save(model.state_dict(), \"model_resNet_30.pth\")"
   ]
  },
  {
   "cell_type": "code",
   "execution_count": null,
   "id": "e477a773-52d7-47d3-840b-08fab241ccf1",
   "metadata": {},
   "outputs": [],
   "source": [
    "pip install matplotlib"
   ]
  },
  {
   "cell_type": "code",
   "execution_count": null,
   "id": "d89c74cf-5b4c-48a5-a9b9-aedeb56c471c",
   "metadata": {},
   "outputs": [],
   "source": [
    "all_Acc = [0.5636314717673848, 0.5836136164896241, 0.6174562843949275, 0.6197063476244206, 0.6603723361335236, 0.6212629145704025, 0.7132108466429967, 0.6446352460895072, 0.7750882347975762, 0.6189187223940336, 0.8504211944642124, 0.6452192858416684, 0.9109559541113386, 0.6236099737190816, 0.9361894091700133, 0.6259083645941659, 0.9484669176284564, 0.6401118230402272, 0.9597575340766834, 0.6427015010232215, 0.9701111394115421, 0.6244017076064257, 0.9635008634525782, 0.6170680166290606, 0.9756045994649154, 0.626939693340432, 0.9727549371395686, 0.6288275773089834, 0.9743872125487453, 0.6297563431664677, 0.9748447000587227, 0.6260920734737813, 0.9730417686687344, 0.6309746418148853, 0.9800600301685125, 0.6294837093999593, 0.9837244491510141, 0.6255004207973228, 0.9833368158005823, 0.6317321023234482, 0.9772059718514434, 0.6353557633209429, 0.9847459519567424, 0.6194297429131613, 0.9867771864629076, 0.6285464872608135, 0.9816603363010203, 0.6467998145129527, 0.9846935601693854, 0.6228826280184437, 0.9868339785379776, 0.6256364839672094, 0.9759466270091814, 0.6438147844143447, 0.9883029944009419, 0.6356899261917061, 0.9866099325984107, 0.6266016924789561, 0.9822640923638776, 0.6322634904219054]"
   ]
  },
  {
   "cell_type": "code",
   "execution_count": null,
   "id": "17692dad-d320-4ab3-b3c4-3dd9991c74d0",
   "metadata": {},
   "outputs": [],
   "source": [
    "test_Acc = []\n",
    "tranning_Acc = []\n",
    "\n",
    "i = 0\n",
    "while i < len(all_Acc):\n",
    "    tranning_Acc.append(all_Acc[i])\n",
    "    i += 1\n",
    "    test_Acc.append(all_Acc[i])\n",
    "    i += 1"
   ]
  },
  {
   "cell_type": "code",
   "execution_count": null,
   "id": "a14c0647",
   "metadata": {},
   "outputs": [],
   "source": [
    "import matplotlib.pyplot as plt\n",
    "\n",
    "training_Acc = [0.5636314717673848, 0.6174562843949275, 0.6603723361335236, 0.7132108466429967, 0.7750882347975762, 0.8504211944642124, 0.9109559541113386, 0.9361894091700133, 0.9484669176284564, 0.9597575340766834, 0.9701111394115421, 0.9635008634525782, 0.9756045994649154, 0.9727549371395686, 0.9743872125487453, 0.9748447000587227, 0.9730417686687344, 0.9800600301685125, 0.9837244491510141, 0.9833368158005823, 0.9772059718514434, 0.9847459519567424, 0.9867771864629076, 0.9816603363010203, 0.9846935601693854, 0.9868339785379776, 0.9759466270091814, 0.9883029944009419, 0.9866099325984107, 0.9822640923638776]\n",
    "\n",
    "test_Acc = [0.5836136164896241, 0.6197063476244206, 0.6212629145704025, 0.6446352460895072, 0.6189187223940336, 0.6452192858416684, 0.6236099737190816, 0.6259083645941659, 0.6401118230402272, 0.6427015010232215, 0.6244017076064257, 0.6170680166290606, 0.626939693340432, 0.6288275773089834, 0.6297563431664677, 0.6260920734737813, 0.6309746418148853, 0.6294837093999593, 0.6255004207973228, 0.6317321023234482, 0.6353557633209429, 0.6194297429131613, 0.6285464872608135, 0.6467998145129527, 0.6228826280184437, 0.6256364839672094, 0.6438147844143447, 0.6356899261917061, 0.6266016924789561, 0.6322634904219054]\n",
    "\n",
    "plt.plot(training_Acc, label='Training Accuracy')\n",
    "plt.plot(test_Acc, label='Test Accuracy')\n",
    "\n",
    "plt.title('ResNet18 Training and Test Accuracy')\n",
    "plt.legend()\n",
    "plt.xlabel('Epochs')\n",
    "plt.ylabel('Accuracy')\n",
    "\n",
    "plt.show()"
   ]
  },
  {
   "cell_type": "code",
   "execution_count": 54,
   "id": "36adc108",
   "metadata": {},
   "outputs": [
    {
     "data": {
      "text/plain": [
       "30"
      ]
     },
     "execution_count": 54,
     "metadata": {},
     "output_type": "execute_result"
    }
   ],
   "source": [
    "len(tranning_Acc)"
   ]
  },
  {
   "cell_type": "code",
   "execution_count": 55,
   "id": "70421c95-1290-4265-9b42-9fb56f83146b",
   "metadata": {},
   "outputs": [
    {
     "data": {
      "text/plain": [
       "30"
      ]
     },
     "execution_count": 55,
     "metadata": {},
     "output_type": "execute_result"
    }
   ],
   "source": [
    "len(test_Acc)"
   ]
  },
  {
   "cell_type": "code",
   "execution_count": 56,
   "id": "2402639a-ad88-498a-9284-4b34570c6df7",
   "metadata": {},
   "outputs": [
    {
     "data": {
      "text/plain": [
       "[0.5636314717673848,\n",
       " 0.6174562843949275,\n",
       " 0.6603723361335236,\n",
       " 0.7132108466429967,\n",
       " 0.7750882347975762,\n",
       " 0.8504211944642124,\n",
       " 0.9109559541113386,\n",
       " 0.9361894091700133,\n",
       " 0.9484669176284564,\n",
       " 0.9597575340766834,\n",
       " 0.9701111394115421,\n",
       " 0.9635008634525782,\n",
       " 0.9756045994649154,\n",
       " 0.9727549371395686,\n",
       " 0.9743872125487453,\n",
       " 0.9748447000587227,\n",
       " 0.9730417686687344,\n",
       " 0.9800600301685125,\n",
       " 0.9837244491510141,\n",
       " 0.9833368158005823,\n",
       " 0.9772059718514434,\n",
       " 0.9847459519567424,\n",
       " 0.9867771864629076,\n",
       " 0.9816603363010203,\n",
       " 0.9846935601693854,\n",
       " 0.9868339785379776,\n",
       " 0.9759466270091814,\n",
       " 0.9883029944009419,\n",
       " 0.9866099325984107,\n",
       " 0.9822640923638776]"
      ]
     },
     "execution_count": 56,
     "metadata": {},
     "output_type": "execute_result"
    }
   ],
   "source": [
    "tranning_Acc"
   ]
  },
  {
   "cell_type": "code",
   "execution_count": 57,
   "id": "939dbf3b-367f-4ae0-a12e-c19d8744ec22",
   "metadata": {},
   "outputs": [
    {
     "data": {
      "text/plain": [
       "[0.5836136164896241,\n",
       " 0.6197063476244206,\n",
       " 0.6212629145704025,\n",
       " 0.6446352460895072,\n",
       " 0.6189187223940336,\n",
       " 0.6452192858416684,\n",
       " 0.6236099737190816,\n",
       " 0.6259083645941659,\n",
       " 0.6401118230402272,\n",
       " 0.6427015010232215,\n",
       " 0.6244017076064257,\n",
       " 0.6170680166290606,\n",
       " 0.626939693340432,\n",
       " 0.6288275773089834,\n",
       " 0.6297563431664677,\n",
       " 0.6260920734737813,\n",
       " 0.6309746418148853,\n",
       " 0.6294837093999593,\n",
       " 0.6255004207973228,\n",
       " 0.6317321023234482,\n",
       " 0.6353557633209429,\n",
       " 0.6194297429131613,\n",
       " 0.6285464872608135,\n",
       " 0.6467998145129527,\n",
       " 0.6228826280184437,\n",
       " 0.6256364839672094,\n",
       " 0.6438147844143447,\n",
       " 0.6356899261917061,\n",
       " 0.6266016924789561,\n",
       " 0.6322634904219054]"
      ]
     },
     "execution_count": 57,
     "metadata": {},
     "output_type": "execute_result"
    }
   ],
   "source": [
    "test_Acc"
   ]
  },
  {
   "cell_type": "code",
   "execution_count": 63,
   "id": "a93bc250-71db-4352-a179-040995874c0e",
   "metadata": {},
   "outputs": [
    {
     "name": "stdout",
     "output_type": "stream",
     "text": [
      "Test Accuracy: 0.6358\n"
     ]
    }
   ],
   "source": [
    "test_acc = testset(model, test_loader, device)"
   ]
  },
  {
   "cell_type": "code",
   "execution_count": null,
   "id": "8cb4c985-645a-4033-a887-e07eedecbe59",
   "metadata": {},
   "outputs": [],
   "source": []
  },
  {
   "cell_type": "code",
   "execution_count": null,
   "id": "06f7846d-64e3-424d-9126-849c9e08f2d1",
   "metadata": {},
   "outputs": [],
   "source": []
  }
 ],
 "metadata": {
  "kernelspec": {
   "display_name": "Python 3 (ipykernel)",
   "language": "python",
   "name": "python3"
  },
  "language_info": {
   "codemirror_mode": {
    "name": "ipython",
    "version": 3
   },
   "file_extension": ".py",
   "mimetype": "text/x-python",
   "name": "python",
   "nbconvert_exporter": "python",
   "pygments_lexer": "ipython3",
   "version": "3.11.5"
  }
 },
 "nbformat": 4,
 "nbformat_minor": 5
}
