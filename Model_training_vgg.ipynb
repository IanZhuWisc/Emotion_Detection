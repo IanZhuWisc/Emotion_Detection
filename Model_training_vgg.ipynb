{
 "cells": [
  {
   "cell_type": "code",
   "execution_count": 1,
   "metadata": {},
   "outputs": [
    {
     "name": "stdout",
     "output_type": "stream",
     "text": [
      "Defaulting to user installation because normal site-packages is not writeable\n",
      "Requirement already satisfied: opencv-python in /home/mahadevarao.s/.local/lib/python3.8/site-packages (4.8.1.78)\n",
      "Requirement already satisfied: numpy>=1.17.3 in /shared/centos7/anaconda3/2021.05/lib/python3.8/site-packages (from opencv-python) (1.20.1)\n",
      "Note: you may need to restart the kernel to use updated packages.\n"
     ]
    }
   ],
   "source": [
    "pip install opencv-python"
   ]
  },
  {
   "cell_type": "code",
   "execution_count": 2,
   "metadata": {},
   "outputs": [
    {
     "name": "stdout",
     "output_type": "stream",
     "text": [
      "Defaulting to user installation because normal site-packages is not writeable\n",
      "Requirement already satisfied: torch in /home/mahadevarao.s/.local/lib/python3.8/site-packages (2.1.1)\n",
      "Requirement already satisfied: fsspec in /shared/centos7/anaconda3/2021.05/lib/python3.8/site-packages (from torch) (0.9.0)\n",
      "Requirement already satisfied: filelock in /shared/centos7/anaconda3/2021.05/lib/python3.8/site-packages (from torch) (3.0.12)\n",
      "Requirement already satisfied: nvidia-cuda-cupti-cu12==12.1.105 in /home/mahadevarao.s/.local/lib/python3.8/site-packages (from torch) (12.1.105)\n",
      "Requirement already satisfied: nvidia-cusparse-cu12==12.1.0.106 in /home/mahadevarao.s/.local/lib/python3.8/site-packages (from torch) (12.1.0.106)\n",
      "Requirement already satisfied: nvidia-cuda-runtime-cu12==12.1.105 in /home/mahadevarao.s/.local/lib/python3.8/site-packages (from torch) (12.1.105)\n",
      "Requirement already satisfied: sympy in /shared/centos7/anaconda3/2021.05/lib/python3.8/site-packages (from torch) (1.8)\n",
      "Requirement already satisfied: nvidia-nvtx-cu12==12.1.105 in /home/mahadevarao.s/.local/lib/python3.8/site-packages (from torch) (12.1.105)\n",
      "Requirement already satisfied: nvidia-cuda-nvrtc-cu12==12.1.105 in /home/mahadevarao.s/.local/lib/python3.8/site-packages (from torch) (12.1.105)\n",
      "Requirement already satisfied: nvidia-cudnn-cu12==8.9.2.26 in /home/mahadevarao.s/.local/lib/python3.8/site-packages (from torch) (8.9.2.26)\n",
      "Requirement already satisfied: triton==2.1.0 in /home/mahadevarao.s/.local/lib/python3.8/site-packages (from torch) (2.1.0)\n",
      "Requirement already satisfied: typing-extensions in /home/mahadevarao.s/.local/lib/python3.8/site-packages (from torch) (4.8.0)\n",
      "Requirement already satisfied: nvidia-cusolver-cu12==11.4.5.107 in /home/mahadevarao.s/.local/lib/python3.8/site-packages (from torch) (11.4.5.107)\n",
      "Requirement already satisfied: jinja2 in /shared/centos7/anaconda3/2021.05/lib/python3.8/site-packages (from torch) (2.11.3)\n",
      "Requirement already satisfied: networkx in /shared/centos7/anaconda3/2021.05/lib/python3.8/site-packages (from torch) (2.5)\n",
      "Requirement already satisfied: nvidia-cublas-cu12==12.1.3.1 in /home/mahadevarao.s/.local/lib/python3.8/site-packages (from torch) (12.1.3.1)\n",
      "Requirement already satisfied: nvidia-cufft-cu12==11.0.2.54 in /home/mahadevarao.s/.local/lib/python3.8/site-packages (from torch) (11.0.2.54)\n",
      "Requirement already satisfied: nvidia-curand-cu12==10.3.2.106 in /home/mahadevarao.s/.local/lib/python3.8/site-packages (from torch) (10.3.2.106)\n",
      "Requirement already satisfied: nvidia-nccl-cu12==2.18.1 in /home/mahadevarao.s/.local/lib/python3.8/site-packages (from torch) (2.18.1)\n",
      "Requirement already satisfied: nvidia-nvjitlink-cu12 in /home/mahadevarao.s/.local/lib/python3.8/site-packages (from nvidia-cusolver-cu12==11.4.5.107->torch) (12.3.101)\n",
      "Requirement already satisfied: MarkupSafe>=0.23 in /shared/centos7/anaconda3/2021.05/lib/python3.8/site-packages (from jinja2->torch) (1.1.1)\n",
      "Requirement already satisfied: decorator>=4.3.0 in /shared/centos7/anaconda3/2021.05/lib/python3.8/site-packages (from networkx->torch) (5.0.6)\n",
      "Requirement already satisfied: mpmath>=0.19 in /shared/centos7/anaconda3/2021.05/lib/python3.8/site-packages (from sympy->torch) (1.2.1)\n",
      "Note: you may need to restart the kernel to use updated packages.\n"
     ]
    }
   ],
   "source": [
    "pip install torch"
   ]
  },
  {
   "cell_type": "code",
   "execution_count": 3,
   "metadata": {},
   "outputs": [
    {
     "name": "stdout",
     "output_type": "stream",
     "text": [
      "Defaulting to user installation because normal site-packages is not writeable\n",
      "Requirement already satisfied: typing-extensions in /home/mahadevarao.s/.local/lib/python3.8/site-packages (4.8.0)\n",
      "Note: you may need to restart the kernel to use updated packages.\n"
     ]
    }
   ],
   "source": [
    "pip install typing-extensions\n"
   ]
  },
  {
   "cell_type": "code",
   "execution_count": 4,
   "metadata": {},
   "outputs": [
    {
     "name": "stdout",
     "output_type": "stream",
     "text": [
      "Defaulting to user installation because normal site-packages is not writeable\n",
      "Requirement already satisfied: typing-extensions in /home/mahadevarao.s/.local/lib/python3.8/site-packages (4.8.0)\n",
      "Note: you may need to restart the kernel to use updated packages.\n"
     ]
    }
   ],
   "source": [
    "pip install --upgrade typing-extensions\n"
   ]
  },
  {
   "cell_type": "code",
   "execution_count": 5,
   "metadata": {},
   "outputs": [
    {
     "name": "stdout",
     "output_type": "stream",
     "text": [
      "Defaulting to user installation because normal site-packages is not writeable\n",
      "Requirement already satisfied: torch in /home/mahadevarao.s/.local/lib/python3.8/site-packages (2.1.1)\n",
      "Requirement already satisfied: torchvision in /home/mahadevarao.s/.local/lib/python3.8/site-packages (0.16.1)\n",
      "Requirement already satisfied: torchaudio in /home/mahadevarao.s/.local/lib/python3.8/site-packages (2.1.1)\n",
      "Requirement already satisfied: typing-extensions in /home/mahadevarao.s/.local/lib/python3.8/site-packages (from torch) (4.8.0)\n",
      "Requirement already satisfied: nvidia-cuda-cupti-cu12==12.1.105 in /home/mahadevarao.s/.local/lib/python3.8/site-packages (from torch) (12.1.105)\n",
      "Requirement already satisfied: nvidia-nccl-cu12==2.18.1 in /home/mahadevarao.s/.local/lib/python3.8/site-packages (from torch) (2.18.1)\n",
      "Requirement already satisfied: nvidia-cublas-cu12==12.1.3.1 in /home/mahadevarao.s/.local/lib/python3.8/site-packages (from torch) (12.1.3.1)\n",
      "Requirement already satisfied: nvidia-nvtx-cu12==12.1.105 in /home/mahadevarao.s/.local/lib/python3.8/site-packages (from torch) (12.1.105)\n",
      "Requirement already satisfied: nvidia-cufft-cu12==11.0.2.54 in /home/mahadevarao.s/.local/lib/python3.8/site-packages (from torch) (11.0.2.54)\n",
      "Requirement already satisfied: sympy in /shared/centos7/anaconda3/2021.05/lib/python3.8/site-packages (from torch) (1.8)\n",
      "Requirement already satisfied: nvidia-cudnn-cu12==8.9.2.26 in /home/mahadevarao.s/.local/lib/python3.8/site-packages (from torch) (8.9.2.26)\n",
      "Requirement already satisfied: nvidia-cuda-runtime-cu12==12.1.105 in /home/mahadevarao.s/.local/lib/python3.8/site-packages (from torch) (12.1.105)\n",
      "Requirement already satisfied: nvidia-curand-cu12==10.3.2.106 in /home/mahadevarao.s/.local/lib/python3.8/site-packages (from torch) (10.3.2.106)\n",
      "Requirement already satisfied: nvidia-cuda-nvrtc-cu12==12.1.105 in /home/mahadevarao.s/.local/lib/python3.8/site-packages (from torch) (12.1.105)\n",
      "Requirement already satisfied: networkx in /shared/centos7/anaconda3/2021.05/lib/python3.8/site-packages (from torch) (2.5)\n",
      "Requirement already satisfied: fsspec in /shared/centos7/anaconda3/2021.05/lib/python3.8/site-packages (from torch) (0.9.0)\n",
      "Requirement already satisfied: filelock in /shared/centos7/anaconda3/2021.05/lib/python3.8/site-packages (from torch) (3.0.12)\n",
      "Requirement already satisfied: jinja2 in /shared/centos7/anaconda3/2021.05/lib/python3.8/site-packages (from torch) (2.11.3)\n",
      "Requirement already satisfied: nvidia-cusolver-cu12==11.4.5.107 in /home/mahadevarao.s/.local/lib/python3.8/site-packages (from torch) (11.4.5.107)\n",
      "Requirement already satisfied: nvidia-cusparse-cu12==12.1.0.106 in /home/mahadevarao.s/.local/lib/python3.8/site-packages (from torch) (12.1.0.106)\n",
      "Requirement already satisfied: triton==2.1.0 in /home/mahadevarao.s/.local/lib/python3.8/site-packages (from torch) (2.1.0)\n",
      "Requirement already satisfied: nvidia-nvjitlink-cu12 in /home/mahadevarao.s/.local/lib/python3.8/site-packages (from nvidia-cusolver-cu12==11.4.5.107->torch) (12.3.101)\n",
      "Requirement already satisfied: numpy in /shared/centos7/anaconda3/2021.05/lib/python3.8/site-packages (from torchvision) (1.20.1)\n",
      "Requirement already satisfied: pillow!=8.3.*,>=5.3.0 in /shared/centos7/anaconda3/2021.05/lib/python3.8/site-packages (from torchvision) (8.2.0)\n",
      "Requirement already satisfied: requests in /shared/centos7/anaconda3/2021.05/lib/python3.8/site-packages (from torchvision) (2.25.1)\n",
      "Requirement already satisfied: MarkupSafe>=0.23 in /shared/centos7/anaconda3/2021.05/lib/python3.8/site-packages (from jinja2->torch) (1.1.1)\n",
      "Requirement already satisfied: decorator>=4.3.0 in /shared/centos7/anaconda3/2021.05/lib/python3.8/site-packages (from networkx->torch) (5.0.6)\n",
      "Requirement already satisfied: idna<3,>=2.5 in /shared/centos7/anaconda3/2021.05/lib/python3.8/site-packages (from requests->torchvision) (2.10)\n",
      "Requirement already satisfied: urllib3<1.27,>=1.21.1 in /shared/centos7/anaconda3/2021.05/lib/python3.8/site-packages (from requests->torchvision) (1.26.4)\n",
      "Requirement already satisfied: chardet<5,>=3.0.2 in /shared/centos7/anaconda3/2021.05/lib/python3.8/site-packages (from requests->torchvision) (4.0.0)\n",
      "Requirement already satisfied: certifi>=2017.4.17 in /shared/centos7/anaconda3/2021.05/lib/python3.8/site-packages (from requests->torchvision) (2020.12.5)\n",
      "Requirement already satisfied: mpmath>=0.19 in /shared/centos7/anaconda3/2021.05/lib/python3.8/site-packages (from sympy->torch) (1.2.1)\n",
      "Note: you may need to restart the kernel to use updated packages.\n"
     ]
    }
   ],
   "source": [
    "pip install torch torchvision torchaudio\n"
   ]
  },
  {
   "cell_type": "code",
   "execution_count": 6,
   "metadata": {},
   "outputs": [],
   "source": [
    "import os\n",
    "import cv2\n",
    "import numpy as np\n",
    "import torch\n",
    "from torch.utils.data import Dataset, DataLoader\n",
    "from torchvision import transforms\n",
    "import torchvision.transforms.functional as TF\n",
    "\n",
    "def extract_labels(labels):\n",
    "    # Map emotion labels to integers\n",
    "    label_mapping = {'angry': 0, 'disgust': 1, 'fear': 2, 'happy': 3, 'neutral': 4, 'sad': 5, 'surprise': 6}\n",
    "    return np.array([label_mapping[label] for label in labels])\n",
    "\n",
    "class EmotionDataset(Dataset):\n",
    "    def __init__(self, dataset_path, transform=None):\n",
    "        self.data, self.labels = self.load_data(dataset_path)\n",
    "        self.transform = transform\n",
    "\n",
    "    def __len__(self):\n",
    "        return len(self.labels)\n",
    "\n",
    "    def __getitem__(self, idx):\n",
    "        image = self.data[idx]\n",
    "        label = self.labels[idx]\n",
    "        if self.transform:\n",
    "            image = self.transform(image)\n",
    "        return image, label\n",
    "    \n",
    "    @staticmethod\n",
    "    def load_data(dataset_path):\n",
    "        data = []\n",
    "        labels = []\n",
    "\n",
    "        for emotion_folder in os.listdir(dataset_path):\n",
    "            emotion_path = os.path.join(dataset_path, emotion_folder)\n",
    "            for img_name in os.listdir(emotion_path):\n",
    "                img_path = os.path.join(emotion_path, img_name)\n",
    "                img = cv2.imread(img_path)\n",
    "                data.append(img)\n",
    "                labels.append(emotion_folder)\n",
    "\n",
    "        return np.array(data), extract_labels(labels)\n",
    "    \n",
    "    \n"
   ]
  },
  {
   "cell_type": "code",
   "execution_count": 7,
   "metadata": {},
   "outputs": [
    {
     "name": "stdout",
     "output_type": "stream",
     "text": [
      "cuda\n"
     ]
    }
   ],
   "source": [
    "if torch.backends.mps.is_available():\n",
    "\tdevice=torch.device(\"mps\")\n",
    "elif torch.cuda.is_available():\n",
    "\tdevice=torch.device(\"cuda\")\n",
    "else:\n",
    "\tdevice=torch.device(\"cpu\")\n",
    "\n",
    "print(device)"
   ]
  },
  {
   "cell_type": "code",
   "execution_count": 8,
   "metadata": {},
   "outputs": [],
   "source": [
    "transform = transforms.Compose([\n",
    "    transforms.ToPILImage(),\n",
    "    transforms.Resize((224, 224)),\n",
    "    transforms.ToTensor(),\n",
    "    transforms.Normalize(mean=[0.485, 0.456, 0.406], std=[0.229, 0.224, 0.225]),\n",
    "])"
   ]
  },
  {
   "cell_type": "code",
   "execution_count": 9,
   "metadata": {},
   "outputs": [],
   "source": [
    "train_path = 'FER2013/train'\n",
    "absolute_train_path = os.path.abspath(train_path)\n",
    "\n",
    "test_path = 'FER2013/test'\n",
    "absolute_test_path = os.path.abspath(test_path)\n",
    "\n",
    "train_dataset = EmotionDataset(absolute_train_path, transform=transform)\n",
    "test_dataset = EmotionDataset(absolute_test_path, transform=transform)\n",
    "\n",
    "train_loader = DataLoader(train_dataset, batch_size=32, shuffle=True)\n",
    "test_loader = DataLoader(test_dataset, batch_size=32, shuffle=True)"
   ]
  },
  {
   "cell_type": "code",
   "execution_count": 10,
   "metadata": {},
   "outputs": [
    {
     "name": "stderr",
     "output_type": "stream",
     "text": [
      "/home/mahadevarao.s/.local/lib/python3.8/site-packages/torchvision/models/_utils.py:208: UserWarning: The parameter 'pretrained' is deprecated since 0.13 and may be removed in the future, please use 'weights' instead.\n",
      "  warnings.warn(\n",
      "/home/mahadevarao.s/.local/lib/python3.8/site-packages/torchvision/models/_utils.py:223: UserWarning: Arguments other than a weight enum or `None` for 'weights' are deprecated since 0.13 and may be removed in the future. The current behavior is equivalent to passing `weights=VGG16_Weights.IMAGENET1K_V1`. You can also use `weights=VGG16_Weights.DEFAULT` to get the most up-to-date weights.\n",
      "  warnings.warn(msg)\n",
      "Downloading: \"https://download.pytorch.org/models/vgg16-397923af.pth\" to /home/mahadevarao.s/.cache/torch/hub/checkpoints/vgg16-397923af.pth\n",
      "100%|██████████| 528M/528M [00:11<00:00, 46.9MB/s] \n"
     ]
    }
   ],
   "source": [
    "import torch\n",
    "import torch.nn as nn\n",
    "import torchvision.models as models\n",
    "\n",
    "# Load the pre-trained VGG model\n",
    "class ModifiedVGG(nn.Module):\n",
    "    def __init__(self, num_classes=7):\n",
    "        super(ModifiedVGG, self).__init__()\n",
    "        vgg16 = models.vgg16(pretrained=True)\n",
    "        \n",
    "        # Remove the last fully connected layer and add your own\n",
    "        self.features = vgg16.features\n",
    "        self.avgpool = vgg16.avgpool\n",
    "        \n",
    "        # Modify the classifier to match your number of classes\n",
    "        self.classifier = nn.Sequential(\n",
    "            nn.Linear(512 * 7 * 7, 4096),\n",
    "            nn.ReLU(True),\n",
    "            nn.Dropout(),\n",
    "            nn.Linear(4096, 4096),\n",
    "            nn.ReLU(True),\n",
    "            nn.Dropout(),\n",
    "            nn.Linear(4096, num_classes),\n",
    "        )\n",
    "\n",
    "    def forward(self, x):\n",
    "        x = self.features(x)\n",
    "        x = self.avgpool(x)\n",
    "        x = torch.flatten(x, 1)\n",
    "        x = self.classifier(x)\n",
    "        return x\n",
    "\n",
    "# Instantiate the modified VGG model\n",
    "model = ModifiedVGG(num_classes=7).to(device)"
   ]
  },
  {
   "cell_type": "code",
   "execution_count": 11,
   "metadata": {},
   "outputs": [],
   "source": [
    "criterion = torch.nn.CrossEntropyLoss()\n",
    "optimizer = torch.optim.Adam(model.parameters(), lr=0.001)"
   ]
  },
  {
   "cell_type": "code",
   "execution_count": 12,
   "metadata": {},
   "outputs": [
    {
     "name": "stdout",
     "output_type": "stream",
     "text": [
      "Epoch 1/10, Loss: 1.8641163110733032\n",
      "Epoch 2/10, Loss: 1.8295894861221313\n",
      "Epoch 3/10, Loss: 1.8389605283737183\n",
      "Epoch 4/10, Loss: 1.8650093078613281\n",
      "Epoch 5/10, Loss: 1.8706254959106445\n",
      "Epoch 6/10, Loss: 2.0830509662628174\n",
      "Epoch 7/10, Loss: 1.8404502868652344\n",
      "Epoch 8/10, Loss: 2.0572593212127686\n",
      "Epoch 9/10, Loss: 1.8344014883041382\n",
      "Epoch 10/10, Loss: 2.1120951175689697\n"
     ]
    }
   ],
   "source": [
    "import torch.optim as optim\n",
    "\n",
    "# Assuming you have a GPU available, check if CUDA is available\n",
    "device = torch.device(\"cuda\" if torch.cuda.is_available() else \"cpu\")\n",
    "\n",
    "# Move your model to the GPU\n",
    "model.to(device)\n",
    "\n",
    "# Define your loss function and optimizer\n",
    "criterion = nn.CrossEntropyLoss()\n",
    "optimizer = optim.Adam(model.parameters(), lr=0.001)\n",
    "\n",
    "num_epochs = 10\n",
    "\n",
    "# Training loop\n",
    "for epoch in range(num_epochs):\n",
    "    model.train()\n",
    "    for inputs, labels in train_loader:\n",
    "        # Move inputs and labels to the GPU\n",
    "        inputs, labels = inputs.to(device), labels.to(device)\n",
    "\n",
    "        optimizer.zero_grad()\n",
    "        outputs = model(inputs)\n",
    "        \n",
    "        # Convert labels to torch.long\n",
    "        labels = labels.long()\n",
    "        \n",
    "        # Convert outputs to torch.long if necessary\n",
    "        # outputs = outputs.long()  # Uncomment this line if needed\n",
    "        \n",
    "        loss = criterion(outputs, labels)\n",
    "        loss.backward()\n",
    "        optimizer.step()\n",
    "    \n",
    "    print(f'Epoch {epoch+1}/{num_epochs}, Loss: {loss.item()}')\n"
   ]
  },
  {
   "cell_type": "code",
   "execution_count": 13,
   "metadata": {},
   "outputs": [
    {
     "name": "stdout",
     "output_type": "stream",
     "text": [
      "<class 'torch.Tensor'>\n",
      "<class 'torch.Tensor'>\n",
      "tensor([[[[-0.7822, -0.7822, -0.7822,  ..., -1.4158, -1.4158, -1.4158],\n",
      "          [-0.7822, -0.7822, -0.7822,  ..., -1.4158, -1.4158, -1.4158],\n",
      "          [-0.7822, -0.7822, -0.7822,  ..., -1.4158, -1.4158, -1.4158],\n",
      "          ...,\n",
      "          [ 2.1633,  2.1633,  2.1633,  ...,  0.0569,  0.0569,  0.0569],\n",
      "          [ 2.1633,  2.1633,  2.1633,  ...,  0.0569,  0.0569,  0.0569],\n",
      "          [ 2.1633,  2.1633,  2.1633,  ...,  0.0569,  0.0569,  0.0569]],\n",
      "\n",
      "         [[-0.6702, -0.6702, -0.6702,  ..., -1.3179, -1.3179, -1.3179],\n",
      "          [-0.6702, -0.6702, -0.6702,  ..., -1.3179, -1.3179, -1.3179],\n",
      "          [-0.6702, -0.6702, -0.6702,  ..., -1.3179, -1.3179, -1.3179],\n",
      "          ...,\n",
      "          [ 2.3410,  2.3410,  2.3410,  ...,  0.1877,  0.1877,  0.1877],\n",
      "          [ 2.3410,  2.3410,  2.3410,  ...,  0.1877,  0.1877,  0.1877],\n",
      "          [ 2.3410,  2.3410,  2.3410,  ...,  0.1877,  0.1877,  0.1877]],\n",
      "\n",
      "         [[-0.4450, -0.4450, -0.4450,  ..., -1.0898, -1.0898, -1.0898],\n",
      "          [-0.4450, -0.4450, -0.4450,  ..., -1.0898, -1.0898, -1.0898],\n",
      "          [-0.4450, -0.4450, -0.4450,  ..., -1.0898, -1.0898, -1.0898],\n",
      "          ...,\n",
      "          [ 2.5529,  2.5529,  2.5529,  ...,  0.4091,  0.4091,  0.4091],\n",
      "          [ 2.5529,  2.5529,  2.5529,  ...,  0.4091,  0.4091,  0.4091],\n",
      "          [ 2.5529,  2.5529,  2.5529,  ...,  0.4091,  0.4091,  0.4091]]],\n",
      "\n",
      "\n",
      "        [[[ 0.7762,  0.7762,  0.7762,  ...,  1.1529,  1.1529,  1.1529],\n",
      "          [ 0.7762,  0.7762,  0.7762,  ...,  1.1529,  1.1529,  1.1529],\n",
      "          [ 0.7762,  0.7762,  0.7762,  ...,  1.1700,  1.1700,  1.1700],\n",
      "          ...,\n",
      "          [ 0.8789,  0.8789,  0.8789,  ...,  0.6049,  0.6049,  0.6049],\n",
      "          [ 0.8789,  0.8789,  0.8789,  ...,  0.6049,  0.6049,  0.6049],\n",
      "          [ 0.8789,  0.8789,  0.8789,  ...,  0.6049,  0.6049,  0.6049]],\n",
      "\n",
      "         [[ 0.9230,  0.9230,  0.9230,  ...,  1.3081,  1.3081,  1.3081],\n",
      "          [ 0.9230,  0.9230,  0.9230,  ...,  1.3081,  1.3081,  1.3081],\n",
      "          [ 0.9230,  0.9230,  0.9230,  ...,  1.3256,  1.3256,  1.3256],\n",
      "          ...,\n",
      "          [ 1.0280,  1.0280,  1.0280,  ...,  0.7479,  0.7479,  0.7479],\n",
      "          [ 1.0280,  1.0280,  1.0280,  ...,  0.7479,  0.7479,  0.7479],\n",
      "          [ 1.0280,  1.0280,  1.0280,  ...,  0.7479,  0.7479,  0.7479]],\n",
      "\n",
      "         [[ 1.1411,  1.1411,  1.1411,  ...,  1.5245,  1.5245,  1.5245],\n",
      "          [ 1.1411,  1.1411,  1.1411,  ...,  1.5245,  1.5245,  1.5245],\n",
      "          [ 1.1411,  1.1411,  1.1411,  ...,  1.5420,  1.5420,  1.5420],\n",
      "          ...,\n",
      "          [ 1.2457,  1.2457,  1.2457,  ...,  0.9668,  0.9668,  0.9668],\n",
      "          [ 1.2457,  1.2457,  1.2457,  ...,  0.9668,  0.9668,  0.9668],\n",
      "          [ 1.2457,  1.2457,  1.2457,  ...,  0.9668,  0.9668,  0.9668]]],\n",
      "\n",
      "\n",
      "        [[[ 0.7762,  0.7762,  0.7762,  ...,  0.5536,  0.5536,  0.5536],\n",
      "          [ 0.7762,  0.7762,  0.7762,  ...,  0.5536,  0.5536,  0.5536],\n",
      "          [ 0.7762,  0.7762,  0.7762,  ...,  0.5536,  0.5536,  0.5536],\n",
      "          ...,\n",
      "          [ 0.4851,  0.4851,  0.4679,  ..., -0.2513, -0.2513, -0.2513],\n",
      "          [ 0.4851,  0.4851,  0.4679,  ..., -0.2513, -0.2513, -0.2513],\n",
      "          [ 0.4851,  0.4851,  0.4679,  ..., -0.2513, -0.2513, -0.2513]],\n",
      "\n",
      "         [[ 0.9230,  0.9230,  0.9230,  ...,  0.6954,  0.6954,  0.6954],\n",
      "          [ 0.9230,  0.9230,  0.9230,  ...,  0.6954,  0.6954,  0.6954],\n",
      "          [ 0.9230,  0.9230,  0.9230,  ...,  0.6954,  0.6954,  0.6954],\n",
      "          ...,\n",
      "          [ 0.6254,  0.6254,  0.6078,  ..., -0.1275, -0.1275, -0.1275],\n",
      "          [ 0.6254,  0.6254,  0.6078,  ..., -0.1275, -0.1275, -0.1275],\n",
      "          [ 0.6254,  0.6254,  0.6078,  ..., -0.1275, -0.1275, -0.1275]],\n",
      "\n",
      "         [[ 1.1411,  1.1411,  1.1411,  ...,  0.9145,  0.9145,  0.9145],\n",
      "          [ 1.1411,  1.1411,  1.1411,  ...,  0.9145,  0.9145,  0.9145],\n",
      "          [ 1.1411,  1.1411,  1.1411,  ...,  0.9145,  0.9145,  0.9145],\n",
      "          ...,\n",
      "          [ 0.8448,  0.8448,  0.8274,  ...,  0.0953,  0.0953,  0.0953],\n",
      "          [ 0.8448,  0.8448,  0.8274,  ...,  0.0953,  0.0953,  0.0953],\n",
      "          [ 0.8448,  0.8448,  0.8274,  ...,  0.0953,  0.0953,  0.0953]]],\n",
      "\n",
      "\n",
      "        ...,\n",
      "\n",
      "\n",
      "        [[[-1.4500, -1.4500, -1.4500,  ...,  1.7865,  1.7865,  1.7865],\n",
      "          [-1.4500, -1.4500, -1.4500,  ...,  1.7865,  1.7865,  1.7865],\n",
      "          [-1.4500, -1.4500, -1.4500,  ...,  1.7865,  1.7865,  1.7865],\n",
      "          ...,\n",
      "          [-0.5424, -0.5424, -0.5424,  ..., -0.8507, -0.8507, -0.8507],\n",
      "          [-0.5424, -0.5424, -0.5424,  ..., -0.8507, -0.8507, -0.8507],\n",
      "          [-0.5424, -0.5424, -0.5424,  ..., -0.8507, -0.8507, -0.8507]],\n",
      "\n",
      "         [[-1.3529, -1.3529, -1.3529,  ...,  1.9559,  1.9559,  1.9559],\n",
      "          [-1.3529, -1.3529, -1.3529,  ...,  1.9559,  1.9559,  1.9559],\n",
      "          [-1.3529, -1.3529, -1.3529,  ...,  1.9559,  1.9559,  1.9559],\n",
      "          ...,\n",
      "          [-0.4251, -0.4251, -0.4251,  ..., -0.7402, -0.7402, -0.7402],\n",
      "          [-0.4251, -0.4251, -0.4251,  ..., -0.7402, -0.7402, -0.7402],\n",
      "          [-0.4251, -0.4251, -0.4251,  ..., -0.7402, -0.7402, -0.7402]],\n",
      "\n",
      "         [[-1.1247, -1.1247, -1.1247,  ...,  2.1694,  2.1694,  2.1694],\n",
      "          [-1.1247, -1.1247, -1.1247,  ...,  2.1694,  2.1694,  2.1694],\n",
      "          [-1.1247, -1.1247, -1.1247,  ...,  2.1694,  2.1694,  2.1694],\n",
      "          ...,\n",
      "          [-0.2010, -0.2010, -0.2010,  ..., -0.5147, -0.5147, -0.5147],\n",
      "          [-0.2010, -0.2010, -0.2010,  ..., -0.5147, -0.5147, -0.5147],\n",
      "          [-0.2010, -0.2010, -0.2010,  ..., -0.5147, -0.5147, -0.5147]]],\n",
      "\n",
      "\n",
      "        [[[-1.4500, -1.4500, -1.4500,  ..., -0.3541, -0.3369, -0.3369],\n",
      "          [-1.4500, -1.4500, -1.4500,  ..., -0.3541, -0.3369, -0.3369],\n",
      "          [-1.4500, -1.4500, -1.4500,  ..., -0.3541, -0.3369, -0.3369],\n",
      "          ...,\n",
      "          [ 1.6324,  1.6324,  1.6324,  ...,  1.4954,  1.4954,  1.4954],\n",
      "          [ 1.6324,  1.6324,  1.6324,  ...,  1.4954,  1.4954,  1.4954],\n",
      "          [ 1.6324,  1.6324,  1.6324,  ...,  1.4954,  1.4954,  1.4954]],\n",
      "\n",
      "         [[-1.3529, -1.3529, -1.3529,  ..., -0.2325, -0.2150, -0.2150],\n",
      "          [-1.3529, -1.3529, -1.3529,  ..., -0.2325, -0.2150, -0.2150],\n",
      "          [-1.3529, -1.3529, -1.3529,  ..., -0.2325, -0.2150, -0.2150],\n",
      "          ...,\n",
      "          [ 1.7983,  1.7983,  1.7983,  ...,  1.6583,  1.6583,  1.6583],\n",
      "          [ 1.7983,  1.7983,  1.7983,  ...,  1.6583,  1.6583,  1.6583],\n",
      "          [ 1.7983,  1.7983,  1.7983,  ...,  1.6583,  1.6583,  1.6583]],\n",
      "\n",
      "         [[-1.1247, -1.1247, -1.1247,  ..., -0.0092,  0.0082,  0.0082],\n",
      "          [-1.1247, -1.1247, -1.1247,  ..., -0.0092,  0.0082,  0.0082],\n",
      "          [-1.1247, -1.1247, -1.1247,  ..., -0.0092,  0.0082,  0.0082],\n",
      "          ...,\n",
      "          [ 2.0125,  2.0125,  2.0125,  ...,  1.8731,  1.8731,  1.8731],\n",
      "          [ 2.0125,  2.0125,  2.0125,  ...,  1.8731,  1.8731,  1.8731],\n",
      "          [ 2.0125,  2.0125,  2.0125,  ...,  1.8731,  1.8731,  1.8731]]],\n",
      "\n",
      "\n",
      "        [[[-0.7822, -0.7822, -0.7822,  ...,  0.6906,  0.6906,  0.6906],\n",
      "          [-0.7822, -0.7822, -0.7822,  ...,  0.6906,  0.6906,  0.6906],\n",
      "          [-0.7822, -0.7822, -0.7822,  ...,  0.7077,  0.7077,  0.7077],\n",
      "          ...,\n",
      "          [ 0.2453,  0.2453,  0.2453,  ..., -1.5699, -1.6042, -1.6042],\n",
      "          [ 0.2453,  0.2453,  0.2453,  ..., -1.5699, -1.6042, -1.6042],\n",
      "          [ 0.2453,  0.2453,  0.2453,  ..., -1.5699, -1.6042, -1.6042]],\n",
      "\n",
      "         [[-0.6702, -0.6702, -0.6702,  ...,  0.8354,  0.8354,  0.8354],\n",
      "          [-0.6702, -0.6702, -0.6702,  ...,  0.8354,  0.8354,  0.8354],\n",
      "          [-0.6702, -0.6702, -0.6702,  ...,  0.8529,  0.8529,  0.8529],\n",
      "          ...,\n",
      "          [ 0.3803,  0.3803,  0.3803,  ..., -1.4755, -1.5105, -1.5105],\n",
      "          [ 0.3803,  0.3803,  0.3803,  ..., -1.4755, -1.5105, -1.5105],\n",
      "          [ 0.3803,  0.3803,  0.3803,  ..., -1.4755, -1.5105, -1.5105]],\n",
      "\n",
      "         [[-0.4450, -0.4450, -0.4450,  ...,  1.0539,  1.0539,  1.0539],\n",
      "          [-0.4450, -0.4450, -0.4450,  ...,  1.0539,  1.0539,  1.0539],\n",
      "          [-0.4450, -0.4450, -0.4450,  ...,  1.0714,  1.0714,  1.0714],\n",
      "          ...,\n",
      "          [ 0.6008,  0.6008,  0.6008,  ..., -1.2467, -1.2816, -1.2816],\n",
      "          [ 0.6008,  0.6008,  0.6008,  ..., -1.2467, -1.2816, -1.2816],\n",
      "          [ 0.6008,  0.6008,  0.6008,  ..., -1.2467, -1.2816, -1.2816]]]])\n",
      "tensor([3, 0, 0, 4, 3, 1, 2, 4, 3, 5, 4, 6, 2, 1, 5, 4, 4, 2, 3, 3, 0, 6, 5, 2,\n",
      "        4, 5, 6, 4, 4, 0, 1, 1])\n"
     ]
    }
   ],
   "source": [
    "for inputs, labels in train_loader:\n",
    "    print(type(inputs))\n",
    "    print(type(labels))\n",
    "    print(inputs)\n",
    "    print(labels)\n",
    "    break"
   ]
  },
  {
   "cell_type": "code",
   "execution_count": 14,
   "metadata": {},
   "outputs": [
    {
     "name": "stdout",
     "output_type": "stream",
     "text": [
      "Test Accuracy: 0.2091\n"
     ]
    }
   ],
   "source": [
    "model.eval()\n",
    "test_accuracy = 0  \n",
    "num_correct = 0\n",
    "num_samples = 0\n",
    "\n",
    "with torch.no_grad():\n",
    "    for inputs, labels in test_loader:\n",
    "        inputs = inputs.to(device)\n",
    "        labels = labels.long().to(device)\n",
    "        \n",
    "        outputs = model(inputs)\n",
    "        _, preds = torch.max(outputs, 1)\n",
    "\n",
    "        num_correct += (preds == labels).sum()\n",
    "        num_samples += labels.size(0)\n",
    "        acc = float(num_correct) / num_samples\n",
    "        test_accuracy += acc\n",
    "\n",
    "print(f'Test Accuracy: {test_accuracy / len(test_loader):.4f}')"
   ]
  },
  {
   "cell_type": "code",
   "execution_count": null,
   "metadata": {},
   "outputs": [],
   "source": []
  },
  {
   "cell_type": "code",
   "execution_count": null,
   "metadata": {},
   "outputs": [],
   "source": []
  }
 ],
 "metadata": {
  "kernelspec": {
   "display_name": "Python 3",
   "language": "python",
   "name": "python3"
  },
  "language_info": {
   "codemirror_mode": {
    "name": "ipython",
    "version": 3
   },
   "file_extension": ".py",
   "mimetype": "text/x-python",
   "name": "python",
   "nbconvert_exporter": "python",
   "pygments_lexer": "ipython3",
   "version": "3.11.7"
  }
 },
 "nbformat": 4,
 "nbformat_minor": 4
}
